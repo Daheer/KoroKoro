{
 "cells": [
  {
   "cell_type": "code",
   "execution_count": 1,
   "metadata": {},
   "outputs": [
    {
     "name": "stderr",
     "output_type": "stream",
     "text": [
      "2023-11-11 02:08:07,100:INFO - HTTP Request: GET https://xoljrfrcxamwmoxdxfeh.supabase.co/rest/v1/products?select=%2A \"HTTP/1.1 200 OK\"\n",
      "2023-11-11 02:08:07,105:INFO - \u001b[92mSupabase connection successful\u001b[0m\n"
     ]
    }
   ],
   "source": [
    "import dotenv\n",
    "import os\n",
    "from supabase import create_client, Client\n",
    "from KoroKoro.logging import logger\n",
    "from KoroKoro.utils import *\n",
    "\n",
    "dotenv.load_dotenv()\n",
    "\n",
    "SUPABASE_URL = os.getenv(\"SUPABASE_URL\")\n",
    "SUPABASE_KEY = os.getenv(\"SUPABASE_KEY\")\n",
    "\n",
    "try:\n",
    "  supabase: Client = create_client(SUPABASE_URL, SUPABASE_KEY)\n",
    "  products = supabase.table('products').select(\"*\").execute()\n",
    "  logger.info(f\"{bin_colors.OKGREEN}Supabase connection successful{bin_colors.ENDC}\")\n",
    "except Exception as e:\n",
    "  logger.error(f\"{bin_colors.FAIL}Supabase connection failed: {e}{bin_colors.ENDC}\")"
   ]
  },
  {
   "cell_type": "code",
   "execution_count": 2,
   "metadata": {},
   "outputs": [],
   "source": [
    "products = sort_product_listings(products.data)"
   ]
  },
  {
   "cell_type": "code",
   "execution_count": 3,
   "metadata": {},
   "outputs": [],
   "source": [
    "product = next((p for p in products if p['status'] != \"PROCESSING\"), None)"
   ]
  },
  {
   "cell_type": "code",
   "execution_count": 4,
   "metadata": {},
   "outputs": [
    {
     "data": {
      "text/plain": [
       "{'id': 49,\n",
       " 'title': 'Dove Lotion',\n",
       " 'category': 'others',\n",
       " 'price': 3500,\n",
       " 'video_link': 'https://xoljrfrcxamwmoxdxfeh.supabase.co/storage/v1/object/public/korokoro_bucket/public/lotion.mp4',\n",
       " 'image_link': 'https://xoljrfrcxamwmoxdxfeh.supabase.co/storage/v1/object/public/korokoro_bucket/public/Caligraph%20Arabic%20Name.png',\n",
       " 'status': 'IDLE',\n",
       " 'unique_id': '1d98056e-569f-4cbb-abc7-76e186f1de96'}"
      ]
     },
     "execution_count": 4,
     "metadata": {},
     "output_type": "execute_result"
    }
   ],
   "source": [
    "product"
   ]
  },
  {
   "cell_type": "code",
   "execution_count": 5,
   "metadata": {},
   "outputs": [],
   "source": [
    "if product is None:\n",
    "  logger.info(f\"{bin_colors.OKCYAN}No products to process! Toodles Exiting...{bin_colors.ENDC}\")\n",
    "  exit()"
   ]
  },
  {
   "cell_type": "code",
   "execution_count": 9,
   "metadata": {},
   "outputs": [
    {
     "name": "stderr",
     "output_type": "stream",
     "text": [
      "2023-11-11 02:10:52,945:INFO - \u001b[96mProcessing product: 1d98056e-569f-4cbb-abc7-76e186f1de96\u001b[0m\n",
      "2023-11-11 02:10:53,235:INFO - HTTP Request: PATCH https://xoljrfrcxamwmoxdxfeh.supabase.co/rest/v1/products?unique_id=eq.1d98056e-569f-4cbb-abc7-76e186f1de96 \"HTTP/1.1 200 OK\"\n"
     ]
    }
   ],
   "source": [
    "try:\n",
    "  logger.info(f\"{bin_colors.OKBLUE}Processing product: {product['unique_id']}{bin_colors.ENDC}\")\n",
    "  supabase.table('products').update({'status': 'PROCESSING'}).eq('unique_id', product['unique_id']).execute()\n",
    "except Exception as e:\n",
    "  logger.error(f\"{bin_colors.FAIL}Failed to update product status: {e}{bin_colors.ENDC}\")"
   ]
  },
  {
   "cell_type": "code",
   "execution_count": 39,
   "metadata": {},
   "outputs": [],
   "source": [
    "from KoroKoro.entity import ProductConfig"
   ]
  },
  {
   "cell_type": "code",
   "execution_count": 43,
   "metadata": {},
   "outputs": [],
   "source": [
    "product_config = ProductConfig.from_dict(product)"
   ]
  },
  {
   "cell_type": "code",
   "execution_count": 47,
   "metadata": {},
   "outputs": [
    {
     "data": {
      "text/plain": [
       "'artifacts/ebf076ba-e2a1-49c0-a92d-8bd3ea0fbde8.mp4'"
      ]
     },
     "execution_count": 47,
     "metadata": {},
     "output_type": "execute_result"
    }
   ],
   "source": [
    "product_config.video_output"
   ]
  }
 ],
 "metadata": {
  "kernelspec": {
   "display_name": "Python 3 (ipykernel)",
   "language": "python",
   "name": "python3"
  },
  "language_info": {
   "codemirror_mode": {
    "name": "ipython",
    "version": 3
   },
   "file_extension": ".py",
   "mimetype": "text/x-python",
   "name": "python",
   "nbconvert_exporter": "python",
   "pygments_lexer": "ipython3",
   "version": "3.10.8"
  }
 },
 "nbformat": 4,
 "nbformat_minor": 2
}
